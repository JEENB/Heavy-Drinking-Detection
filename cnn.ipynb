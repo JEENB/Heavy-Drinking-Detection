{
 "cells": [
  {
   "cell_type": "code",
   "execution_count": 12,
   "metadata": {},
   "outputs": [],
   "source": [
    "import numpy as np\n",
    "from sklearn.model_selection import train_test_split\n",
    "import pandas as pd\n",
    "import matplotlib as plt"
   ]
  },
  {
   "cell_type": "code",
   "execution_count": 13,
   "metadata": {},
   "outputs": [],
   "source": [
    "df = pd.read_csv(\"extracted_features.csv\")\n",
    "X = df.drop(columns=['pid', 'window10', 'timestamp', 'intoxicated', \"Unnamed: 0\", \"Unnamed: 0.1\", 'datetime'], axis=1)\n",
    "y = df[['intoxicated']]\n"
   ]
  },
  {
   "cell_type": "code",
   "execution_count": 14,
   "metadata": {},
   "outputs": [],
   "source": [
    "import tensorflow as tf\n",
    "from tensorflow import keras"
   ]
  },
  {
   "cell_type": "code",
   "execution_count": 15,
   "metadata": {},
   "outputs": [],
   "source": [
    "\n",
    "x = X.to_numpy()\n",
    "x = x.reshape((len(df['window10']), X.shape[1], 1))\n",
    "y = y.to_numpy()"
   ]
  },
  {
   "cell_type": "code",
   "execution_count": 16,
   "metadata": {},
   "outputs": [
    {
     "name": "stdout",
     "output_type": "stream",
     "text": [
      "Xshape = (72521, 136, 1)\n",
      "Yshape = (72521, 1)\n"
     ]
    }
   ],
   "source": [
    "print(f\"Xshape = {x.shape}\")\n",
    "print(f\"Yshape = {y.shape}\")"
   ]
  },
  {
   "cell_type": "code",
   "execution_count": 17,
   "metadata": {},
   "outputs": [],
   "source": [
    "train_X, test_X, train_y, test_y = train_test_split(X, y, test_size=0.3, random_state=1)\n",
    "valid_X, test_X, valid_y, test_y = train_test_split(test_X, test_y, test_size=0.5, random_state=1)\n",
    "train_X = np.asarray(train_X).astype('float32')\n",
    "test_X = np.asarray(test_X).astype('float32')"
   ]
  },
  {
   "cell_type": "code",
   "execution_count": 26,
   "metadata": {},
   "outputs": [],
   "source": [
    "cnn_model = keras.Sequential([\n",
    "\tkeras.layers.Conv1D(filters=64, kernel_size=10, activation='relu', input_shape = (136,1)),\n",
    "\tkeras.layers.Conv1D(filters=64, kernel_size=10, activation='relu'),\n",
    "\t# keras.layers.Dropout(0.5),\n",
    "\tkeras.layers.MaxPool1D(pool_size=2), \n",
    "\tkeras.layers.Flatten(),\n",
    "\tkeras.layers.Dense(128, activation='relu'),\n",
    "\tkeras.layers.Dense(32, activation='relu'),\n",
    "\tkeras.layers.Dense(1, activation = 'sigmoid')\n",
    "])\n",
    "\n",
    "cnn_model.compile(optimizer='adam', \n",
    "              loss='binary_crossentropy',\n",
    "              metrics=['accuracy'])"
   ]
  },
  {
   "cell_type": "code",
   "execution_count": 27,
   "metadata": {},
   "outputs": [
    {
     "name": "stdout",
     "output_type": "stream",
     "text": [
      "Epoch 1/10\n",
      "1270/1270 [==============================] - 42s 33ms/step - loss: 11202.1709 - accuracy: 0.6670 - val_loss: 0.5574 - val_accuracy: 0.6554\n",
      "Epoch 2/10\n",
      "1270/1270 [==============================] - 39s 31ms/step - loss: 44.4098 - accuracy: 0.6992 - val_loss: 0.9878 - val_accuracy: 0.7128\n",
      "Epoch 3/10\n",
      "1270/1270 [==============================] - 40s 31ms/step - loss: 27.1883 - accuracy: 0.7184 - val_loss: 0.5195 - val_accuracy: 0.7147\n",
      "Epoch 4/10\n",
      "1270/1270 [==============================] - 46s 36ms/step - loss: 9.6484 - accuracy: 0.7365 - val_loss: 0.4861 - val_accuracy: 0.7864\n",
      "Epoch 5/10\n",
      "1270/1270 [==============================] - 45s 35ms/step - loss: 3.4428 - accuracy: 0.7503 - val_loss: 0.4687 - val_accuracy: 0.7481\n",
      "Epoch 6/10\n",
      "1270/1270 [==============================] - 46s 37ms/step - loss: 0.4671 - accuracy: 0.7663 - val_loss: 0.4662 - val_accuracy: 0.7523\n",
      "Epoch 7/10\n",
      "1270/1270 [==============================] - 44s 35ms/step - loss: 0.4548 - accuracy: 0.7734 - val_loss: 0.4468 - val_accuracy: 0.8166\n",
      "Epoch 8/10\n",
      "1270/1270 [==============================] - 44s 35ms/step - loss: 111.4333 - accuracy: 0.7650 - val_loss: 2907.4790 - val_accuracy: 0.7020\n",
      "Epoch 9/10\n",
      "1270/1270 [==============================] - 37s 29ms/step - loss: 19.5268 - accuracy: 0.7624 - val_loss: 0.4632 - val_accuracy: 0.8009\n",
      "Epoch 10/10\n",
      "1270/1270 [==============================] - 40s 31ms/step - loss: 0.4481 - accuracy: 0.7876 - val_loss: 0.4354 - val_accuracy: 0.7794\n"
     ]
    }
   ],
   "source": [
    "history =cnn_model.fit(x = train_X, y = train_y, batch_size=None, epochs=10, validation_split=0.2)"
   ]
  },
  {
   "cell_type": "code",
   "execution_count": 23,
   "metadata": {},
   "outputs": [],
   "source": [
    "prediction = cnn_model.predict(test_X).round()"
   ]
  },
  {
   "cell_type": "code",
   "execution_count": 24,
   "metadata": {},
   "outputs": [
    {
     "name": "stdout",
     "output_type": "stream",
     "text": [
      "0.6109939547307747 0.7456567699237062 0.6713005869632376 0.5606295149638802\n"
     ]
    }
   ],
   "source": [
    "from sklearn.metrics import accuracy_score, f1_score, recall_score, precision_score, confusion_matrix\n",
    "f1 = f1_score(prediction, test_y)\n",
    "accuracy = accuracy_score(prediction, test_y)\n",
    "rec = recall_score(prediction, test_y)\n",
    "prec = precision_score(prediction, test_y)\n",
    "print(f1, accuracy, rec, prec)"
   ]
  },
  {
   "cell_type": "code",
   "execution_count": 25,
   "metadata": {},
   "outputs": [
    {
     "data": {
      "image/png": "[encoded data removed]",
      "text/plain": [
       "<Figure size 432x288 with 1 Axes>"
      ]
     },
     "metadata": {
      "needs_background": "light"
     },
     "output_type": "display_data"
    }
   ],
   "source": [
    "import matplotlib.pyplot as plt\n",
    "def plot_confusion_matrix(test_y, y_pred):\n",
    "    \"\"\"\n",
    "    Given test_y and y_predictions, plot confusion matrix.\n",
    "    \"\"\"\n",
    "    cm = confusion_matrix(test_y, y_pred)\n",
    "    fig, ax = plt.subplots()\n",
    "    ax.matshow(cm)\n",
    "    plt.title('Confusion Matrix')\n",
    "    plt.xlabel('Predicted')\n",
    "    plt.ylabel('True')\n",
    "\n",
    "    for (i, j), z in np.ndenumerate(cm):\n",
    "        ax.text(j, i, '{:d}'.format(z), ha='center', va='center')\n",
    "\n",
    "    plt.show()\n",
    "plot_confusion_matrix(test_y, prediction)"
   ]
  },
  {
   "cell_type": "code",
   "execution_count": null,
   "metadata": {},
   "outputs": [],
   "source": []
  }
 ],
 "metadata": {
  "interpreter": {
   "hash": "81794d4967e6c3204c66dcd87b604927b115b27c00565d3d43f05ba2f3a2cb0d"
  },
  "kernelspec": {
   "display_name": "Python 3.9.4 64-bit",
   "language": "python",
   "name": "python3"
  },
  "language_info": {
   "codemirror_mode": {
    "name": "ipython",
    "version": 3
   },
   "file_extension": ".py",
   "mimetype": "text/x-python",
   "name": "python",
   "nbconvert_exporter": "python",
   "pygments_lexer": "ipython3",
   "version": "3.9.4"
  },
  "orig_nbformat": 4
 },
 "nbformat": 4,
 "nbformat_minor": 2
}
