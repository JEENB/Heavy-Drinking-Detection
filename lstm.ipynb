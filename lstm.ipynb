{
 "cells": [
  {
   "cell_type": "code",
   "execution_count": 14,
   "metadata": {},
   "outputs": [],
   "source": [
    "import numpy as np\n",
    "from sklearn.model_selection import train_test_split\n",
    "import pandas as pd\n",
    "import matplotlib as plt"
   ]
  },
  {
   "cell_type": "code",
   "execution_count": 15,
   "metadata": {},
   "outputs": [],
   "source": [
    "df = pd.read_csv(\"extracted_features.csv\")\n",
    "X = df.drop(columns=['pid', 'window10', 'timestamp', 'intoxicated', \"Unnamed: 0\", \"Unnamed: 0.1\", 'datetime'], axis=1)\n",
    "y = df[['intoxicated']]\n"
   ]
  },
  {
   "cell_type": "code",
   "execution_count": 16,
   "metadata": {},
   "outputs": [],
   "source": [
    "import tensorflow as tf\n",
    "from tensorflow import keras"
   ]
  },
  {
   "cell_type": "code",
   "execution_count": 17,
   "metadata": {},
   "outputs": [],
   "source": [
    "\n",
    "x = X.to_numpy()\n",
    "x = x.reshape((len(df['window10']), X.shape[1], 1))\n",
    "y = y.to_numpy()"
   ]
  },
  {
   "cell_type": "code",
   "execution_count": 18,
   "metadata": {},
   "outputs": [
    {
     "name": "stdout",
     "output_type": "stream",
     "text": [
      "Xshape = (72521, 136, 1)\n",
      "Yshape = (72521, 1)\n"
     ]
    }
   ],
   "source": [
    "print(f\"Xshape = {x.shape}\")\n",
    "print(f\"Yshape = {y.shape}\")"
   ]
  },
  {
   "cell_type": "code",
   "execution_count": 19,
   "metadata": {},
   "outputs": [],
   "source": [
    "train_X, test_X, train_y, test_y = train_test_split(X, y, test_size=0.3, random_state=1)\n",
    "valid_X, test_X, valid_y, test_y = train_test_split(test_X, test_y, test_size=0.5, random_state=1)\n",
    "train_X = np.asarray(train_X).astype('float32')\n",
    "test_X = np.asarray(test_X).astype('float32')"
   ]
  },
  {
   "cell_type": "code",
   "execution_count": 21,
   "metadata": {},
   "outputs": [
    {
     "data": {
      "text/plain": [
       "array([-9.3154999e-04, -1.2000001e-03, -8.6000003e-03,  3.5000001e-03,\n",
       "        2.0206089e-03, -3.7000000e-03, -2.3000001e-03,  6.0000003e-04,\n",
       "        2.4000001e-03,  8.9000000e+01,  2.3817000e-04,  3.0000001e-04,\n",
       "       -4.0000002e-03,  4.1999999e-03,  1.1899604e-03, -1.6000000e-03,\n",
       "       -5.0000002e-04,  1.0000000e-03,  2.0999999e-03,  9.8000000e+01,\n",
       "       -2.9444201e-03, -2.7999999e-03, -8.5000005e-03,  3.5000001e-03,\n",
       "        1.9965398e-03, -6.2000002e-03, -4.1000000e-03, -1.7000000e-03,\n",
       "        3.0000001e-04,  3.0000000e+01, -9.3154999e-04, -8.5449999e-04,\n",
       "       -1.5558000e-03, -4.5860000e-04,  3.8927220e-04, -1.1200000e-03,\n",
       "       -1.1500000e-03, -2.2499999e-03, -9.9999997e-05,  5.9916609e-04,\n",
       "       -5.0300001e-03, -4.8500001e-03, -8.6000003e-03, -2.6000000e-03,\n",
       "        2.2216360e-03,  2.6100001e-03,  2.4500000e-03,  1.5000000e-03,\n",
       "        3.5000001e-03,  6.5903971e-04,  1.9320688e-03,  1.9652792e-03,\n",
       "        1.1725001e-03,  2.6162129e-03,  4.9117993e-04,  2.3817000e-04,\n",
       "        3.1505001e-04, -2.3400001e-04,  4.8769999e-04,  2.4550583e-04,\n",
       "        2.3999999e-04,  3.0000001e-04, -3.0000001e-04,  6.0000003e-04,\n",
       "        3.3399934e-04, -1.9799999e-03, -1.7000000e-03, -4.0000002e-03,\n",
       "       -1.1000000e-03,  8.3373324e-04,  2.6199999e-03,  2.4999999e-03,\n",
       "        1.8000000e-03,  4.1999999e-03,  7.7860273e-04,  1.1435985e-03,\n",
       "        1.0851953e-03,  7.9708244e-04,  1.7063704e-03,  2.4757467e-04,\n",
       "       -2.9444201e-03, -2.9211000e-03, -3.7312999e-03, -2.3234000e-03,\n",
       "        4.1454579e-04, -2.9500001e-03, -2.9000000e-03, -3.8000001e-03,\n",
       "       -1.8000000e-03,  6.2937359e-04, -7.0799999e-03, -6.7500002e-03,\n",
       "       -8.5000005e-03, -5.1000002e-03,  1.1914510e-03,  8.8000001e-04,\n",
       "        6.5000000e-04, -8.9999998e-04,  3.5000001e-03,  1.2951191e-03,\n",
       "        1.9353667e-03,  1.9148942e-03,  1.4384983e-03,  2.5743393e-03,\n",
       "        3.1499620e-04, -8.5676665e-04, -9.5000002e-04, -4.6333335e-03,\n",
       "        2.2333334e-03,  1.6125676e-03,  1.4616667e-04,  3.3333334e-05,\n",
       "       -1.9666667e-03,  2.8666668e-03,  1.1921787e-03, -3.0176332e-03,\n",
       "       -2.9333334e-03, -6.5666665e-03,  6.0000003e-04,  1.7498453e-03,\n",
       "       -8.5236668e-04, -9.3333336e-04, -6.5666665e-03,  3.1000001e-03,\n",
       "        2.4004108e-03,  1.3203334e-04,  1.9999999e-04, -1.7000000e-03,\n",
       "        2.2333334e-03,  1.0715922e-03, -2.5516667e-03, -2.6666666e-03,\n",
       "       -7.5666667e-03,  2.2333334e-03,  2.2087013e-03,  1.8264365e-01],\n",
       "      dtype=float32)"
      ]
     },
     "execution_count": 21,
     "metadata": {},
     "output_type": "execute_result"
    }
   ],
   "source": [
    "train_X[1]"
   ]
  },
  {
   "cell_type": "code",
   "execution_count": null,
   "metadata": {},
   "outputs": [],
   "source": []
  },
  {
   "cell_type": "code",
   "execution_count": 23,
   "metadata": {},
   "outputs": [],
   "source": [
    "model = keras.Sequential([\n",
    "\tkeras.layers.Input((136,1)), \n",
    "\tkeras.layers.LSTM(64),\n",
    "\t# keras.layers.Dropout(0.5),\n",
    "\tkeras.layers.Dense(136, activation = 'relu'),\n",
    "\tkeras.layers.Dense(128, activation = 'relu'),\n",
    "\tkeras.layers.Dense(64, activation = 'relu'),\n",
    "\tkeras.layers.Dense(32, activation = 'relu'),\n",
    "\tkeras.layers.Dense(16, activation = 'relu'),\n",
    "\tkeras.layers.Dense(1, activation = 'sigmoid',),\n",
    "])\n",
    "\n",
    "model.compile(optimizer='adam', \n",
    "              loss='binary_crossentropy',\n",
    "              metrics=['accuracy'])"
   ]
  },
  {
   "cell_type": "code",
   "execution_count": 24,
   "metadata": {},
   "outputs": [
    {
     "name": "stdout",
     "output_type": "stream",
     "text": [
      "Epoch 1/10\n",
      "1270/1270 [==============================] - 116s 88ms/step - loss: 0.1608 - accuracy: 0.9239 - val_loss: 0.0923 - val_accuracy: 0.9662\n",
      "Epoch 2/10\n",
      "1270/1270 [==============================] - 91s 72ms/step - loss: 0.0530 - accuracy: 0.9788 - val_loss: 0.0383 - val_accuracy: 0.9859\n",
      "Epoch 3/10\n",
      "1270/1270 [==============================] - 106s 83ms/step - loss: 0.0477 - accuracy: 0.9800 - val_loss: 0.0398 - val_accuracy: 0.9788\n",
      "Epoch 4/10\n",
      "1270/1270 [==============================] - 104s 82ms/step - loss: 0.0479 - accuracy: 0.9804 - val_loss: 0.0530 - val_accuracy: 0.9773\n",
      "Epoch 5/10\n",
      "1270/1270 [==============================] - 98s 77ms/step - loss: 0.0442 - accuracy: 0.9821 - val_loss: 0.0653 - val_accuracy: 0.9748\n",
      "Epoch 6/10\n",
      "1270/1270 [==============================] - 95s 75ms/step - loss: 0.0450 - accuracy: 0.9817 - val_loss: 0.0379 - val_accuracy: 0.9815\n",
      "Epoch 7/10\n",
      "1270/1270 [==============================] - 94s 74ms/step - loss: 0.0409 - accuracy: 0.9830 - val_loss: 0.0423 - val_accuracy: 0.9838\n",
      "Epoch 8/10\n",
      "1270/1270 [==============================] - 95s 75ms/step - loss: 0.0416 - accuracy: 0.9824 - val_loss: 0.0534 - val_accuracy: 0.9770\n",
      "Epoch 9/10\n",
      "1270/1270 [==============================] - 97s 76ms/step - loss: 0.0367 - accuracy: 0.9846 - val_loss: 0.0206 - val_accuracy: 0.9894\n",
      "Epoch 10/10\n",
      "1270/1270 [==============================] - 99s 78ms/step - loss: 0.0322 - accuracy: 0.9867 - val_loss: 0.0223 - val_accuracy: 0.9903\n"
     ]
    }
   ],
   "source": [
    "history =model.fit(x = train_X, y = train_y, batch_size=None, epochs=10, validation_split=0.2)"
   ]
  },
  {
   "cell_type": "code",
   "execution_count": 9,
   "metadata": {},
   "outputs": [],
   "source": [
    "loss = [0.1608, 0.0530, 0.0477,0.0479,0.0442,0.0450,0.0409, 0.0416,0.0367,0.0322]\n",
    "accuracy = [.9239,.9788,.9800,.9804,.9821,.9817,.9830,.9824,.9846,.9867]\n",
    "val_loss = [0.0923,.0383,.0398,.0530,.0453,.0379,.0423,.0534,.0306,.0223]\n",
    "val_accuracy = [.9662,.9859,.9788,.9773,.9748,.9825,.9838,.9770,.9894,.9903]"
   ]
  },
  {
   "cell_type": "code",
   "execution_count": 25,
   "metadata": {},
   "outputs": [],
   "source": [
    "prediction = model.predict(test_X).round()"
   ]
  },
  {
   "cell_type": "code",
   "execution_count": 26,
   "metadata": {},
   "outputs": [
    {
     "name": "stdout",
     "output_type": "stream",
     "text": [
      "0.9888704106434694 0.9920029414468241 0.9807155544278102 0.9971620227038184\n"
     ]
    }
   ],
   "source": [
    "from sklearn.metrics import accuracy_score, f1_score, recall_score, precision_score, confusion_matrix\n",
    "f1 = f1_score(prediction, test_y)\n",
    "accuracy = accuracy_score(prediction, test_y)\n",
    "rec = recall_score(prediction, test_y)\n",
    "prec = precision_score(prediction, test_y)\n",
    "print(f1, accuracy, rec, prec)"
   ]
  },
  {
   "cell_type": "code",
   "execution_count": 28,
   "metadata": {},
   "outputs": [
    {
     "data": {
      "image/png": "[encoded data removed]",
      "text/plain": [
       "<Figure size 432x288 with 1 Axes>"
      ]
     },
     "metadata": {
      "needs_background": "light"
     },
     "output_type": "display_data"
    }
   ],
   "source": [
    "import matplotlib.pyplot as plt\n",
    "def plot_confusion_matrix(test_y, y_pred):\n",
    "    \"\"\"\n",
    "    Given test_y and y_predictions, plot confusion matrix.\n",
    "    \"\"\"\n",
    "    cm = confusion_matrix(test_y, y_pred)\n",
    "    fig, ax = plt.subplots()\n",
    "    ax.matshow(cm)\n",
    "    plt.title('Confusion Matrix')\n",
    "    plt.xlabel('Predicted')\n",
    "    plt.ylabel('True')\n",
    "\n",
    "    for (i, j), z in np.ndenumerate(cm):\n",
    "        ax.text(j, i, '{:d}'.format(z), ha='center', va='center')\n",
    "\n",
    "    plt.show()\n",
    "plot_confusion_matrix(test_y, prediction)"
   ]
  },
  {
   "cell_type": "code",
   "execution_count": 10,
   "metadata": {},
   "outputs": [
    {
     "data": {
      "image/png": "[encoded data removed]",
      "text/plain": [
       "<Figure size 432x288 with 1 Axes>"
      ]
     },
     "metadata": {
      "needs_background": "light"
     },
     "output_type": "display_data"
    }
   ],
   "source": [
    "import matplotlib.pyplot as plt\n",
    "plt.figure()\n",
    "plt.plot(loss)\n",
    "plt.plot(val_loss)\n",
    "plt.title('Model Loss')\n",
    "plt.ylabel('Loss')\n",
    "plt.xlabel('Epoch')\n",
    "plt.legend(['Train','Val'], loc = 'upper right')\n",
    "plt.show()"
   ]
  },
  {
   "cell_type": "code",
   "execution_count": 11,
   "metadata": {},
   "outputs": [
    {
     "data": {
      "image/png": "[encoded data removed]",
      "text/plain": [
       "<Figure size 432x288 with 1 Axes>"
      ]
     },
     "metadata": {
      "needs_background": "light"
     },
     "output_type": "display_data"
    }
   ],
   "source": [
    "import matplotlib.pyplot as plt\n",
    "plt.figure()\n",
    "plt.plot(accuracy)\n",
    "plt.plot(val_accuracy)\n",
    "plt.title('Model Accuracy')\n",
    "plt.ylabel('Accuracy')\n",
    "plt.xlabel('Epoch')\n",
    "plt.legend(['Train','Val'], loc = 'upper right')\n",
    "plt.show()"
   ]
  }
 ],
 "metadata": {
  "interpreter": {
   "hash": "81794d4967e6c3204c66dcd87b604927b115b27c00565d3d43f05ba2f3a2cb0d"
  },
  "kernelspec": {
   "display_name": "Python 3.9.4 64-bit",
   "language": "python",
   "name": "python3"
  },
  "language_info": {
   "codemirror_mode": {
    "name": "ipython",
    "version": 3
   },
   "file_extension": ".py",
   "mimetype": "text/x-python",
   "name": "python",
   "nbconvert_exporter": "python",
   "pygments_lexer": "ipython3",
   "version": "3.9.4"
  },
  "orig_nbformat": 4
 },
 "nbformat": 4,
 "nbformat_minor": 2
}
