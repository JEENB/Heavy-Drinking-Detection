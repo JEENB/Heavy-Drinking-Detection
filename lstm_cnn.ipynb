{
 "cells": [
  {
   "cell_type": "code",
   "execution_count": 1,
   "metadata": {},
   "outputs": [],
   "source": [
    "import numpy as np\n",
    "from sklearn.model_selection import train_test_split\n",
    "import pandas as pd\n",
    "import matplotlib as plt"
   ]
  },
  {
   "cell_type": "code",
   "execution_count": 2,
   "metadata": {},
   "outputs": [],
   "source": [
    "df = pd.read_csv(\"extracted_features.csv\")\n",
    "X = df.drop(columns=['pid', 'window10', 'timestamp', 'intoxicated', \"Unnamed: 0\", \"Unnamed: 0.1\", 'datetime'], axis=1)\n",
    "y = df[['intoxicated']]\n"
   ]
  },
  {
   "cell_type": "code",
   "execution_count": 3,
   "metadata": {},
   "outputs": [],
   "source": [
    "import tensorflow as tf\n",
    "from tensorflow import keras"
   ]
  },
  {
   "cell_type": "code",
   "execution_count": 4,
   "metadata": {},
   "outputs": [],
   "source": [
    "\n",
    "x = X.to_numpy()\n",
    "x = x.reshape((len(df['window10']), X.shape[1], 1))\n",
    "y = y.to_numpy()"
   ]
  },
  {
   "cell_type": "code",
   "execution_count": 5,
   "metadata": {},
   "outputs": [
    {
     "name": "stdout",
     "output_type": "stream",
     "text": [
      "Xshape = (72521, 136, 1)\n",
      "Yshape = (72521, 1)\n"
     ]
    }
   ],
   "source": [
    "print(f\"Xshape = {x.shape}\")\n",
    "print(f\"Yshape = {y.shape}\")"
   ]
  },
  {
   "cell_type": "code",
   "execution_count": 6,
   "metadata": {},
   "outputs": [],
   "source": [
    "train_X, test_X, train_y, test_y = train_test_split(X, y, test_size=0.3, random_state=1)\n",
    "valid_X, test_X, valid_y, test_y = train_test_split(test_X, test_y, test_size=0.5, random_state=1)\n",
    "train_X = np.asarray(train_X).astype('float32')\n",
    "test_X = np.asarray(test_X).astype('float32')"
   ]
  },
  {
   "cell_type": "code",
   "execution_count": 7,
   "metadata": {},
   "outputs": [],
   "source": [
    "model = keras.Sequential([\n",
    "\tkeras.layers.Input((136,1)), \n",
    "\tkeras.layers.Conv1D(filters=64, kernel_size=3, activation='relu', input_shape = (136,1)),\n",
    "\tkeras.layers.Conv1D(filters=64, kernel_size=3, activation='relu'),\n",
    "\tkeras.layers.Dropout(0.5),\n",
    "\tkeras.layers.MaxPool1D(pool_size=2), \n",
    "\tkeras.layers.LSTM(64),\n",
    "\tkeras.layers.Dropout(0.5),\n",
    "\tkeras.layers.Flatten(),\n",
    "\tkeras.layers.Dense(136, activation = 'relu'),\n",
    "\tkeras.layers.Dense(1, activation = 'sigmoid',),\n",
    "])\n",
    "\n",
    "model.compile(optimizer='adam', \n",
    "              loss='binary_crossentropy',\n",
    "              metrics=['accuracy'])"
   ]
  },
  {
   "cell_type": "code",
   "execution_count": 8,
   "metadata": {},
   "outputs": [
    {
     "name": "stdout",
     "output_type": "stream",
     "text": [
      "Epoch 1/10\n",
      "1270/1270 [==============================] - 82s 62ms/step - loss: 0.2768 - accuracy: 0.8615 - val_loss: 0.0782 - val_accuracy: 0.9655\n",
      "Epoch 2/10\n",
      "1270/1270 [==============================] - 81s 64ms/step - loss: 0.0869 - accuracy: 0.9634 - val_loss: 0.0506 - val_accuracy: 0.9834\n",
      "Epoch 3/10\n",
      "1270/1270 [==============================] - 82s 65ms/step - loss: 0.0740 - accuracy: 0.9710 - val_loss: 0.0496 - val_accuracy: 0.9816\n",
      "Epoch 4/10\n",
      "1270/1270 [==============================] - 91s 71ms/step - loss: 0.0666 - accuracy: 0.9734 - val_loss: 0.0573 - val_accuracy: 0.9777\n",
      "Epoch 5/10\n",
      "1270/1270 [==============================] - 88s 69ms/step - loss: 0.0623 - accuracy: 0.9759 - val_loss: 0.0629 - val_accuracy: 0.9758\n",
      "Epoch 6/10\n",
      "1270/1270 [==============================] - 85s 67ms/step - loss: 0.0632 - accuracy: 0.9754 - val_loss: 0.0684 - val_accuracy: 0.9701\n",
      "Epoch 7/10\n",
      "1270/1270 [==============================] - 91s 72ms/step - loss: 0.0625 - accuracy: 0.9752 - val_loss: 0.0433 - val_accuracy: 0.9840\n",
      "Epoch 8/10\n",
      "1270/1270 [==============================] - 87s 69ms/step - loss: 0.0562 - accuracy: 0.9779 - val_loss: 0.0382 - val_accuracy: 0.9854\n",
      "Epoch 9/10\n",
      "1270/1270 [==============================] - 83s 65ms/step - loss: 0.0579 - accuracy: 0.9775 - val_loss: 0.0505 - val_accuracy: 0.9795\n",
      "Epoch 10/10\n",
      "1270/1270 [==============================] - 85s 67ms/step - loss: 0.0549 - accuracy: 0.9795 - val_loss: 0.0340 - val_accuracy: 0.9863\n"
     ]
    }
   ],
   "source": [
    "history =model.fit(x = train_X, y = train_y, batch_size=None, epochs=10, validation_split=0.2)"
   ]
  },
  {
   "cell_type": "code",
   "execution_count": 9,
   "metadata": {},
   "outputs": [],
   "source": [
    "prediction = model.predict(test_X).round()"
   ]
  },
  {
   "cell_type": "code",
   "execution_count": 12,
   "metadata": {},
   "outputs": [
    {
     "name": "stdout",
     "output_type": "stream",
     "text": [
      "0.9808119044511161 0.9864877286515304 0.9926023778071335 0.9692982456140351\n"
     ]
    }
   ],
   "source": [
    "from sklearn.metrics import accuracy_score, f1_score, recall_score, precision_score, confusion_matrix\n",
    "f1 = f1_score(prediction, test_y)\n",
    "accuracy = accuracy_score(prediction, test_y)\n",
    "rec = recall_score(prediction, test_y)\n",
    "prec = precision_score(prediction, test_y)\n",
    "print(f1, accuracy, rec, prec)"
   ]
  },
  {
   "cell_type": "code",
   "execution_count": 13,
   "metadata": {},
   "outputs": [
    {
     "data": {
      "image/png": "[encoded data removed]",
      "text/plain": [
       "<Figure size 432x288 with 1 Axes>"
      ]
     },
     "metadata": {
      "needs_background": "light"
     },
     "output_type": "display_data"
    }
   ],
   "source": [
    "import matplotlib.pyplot as plt\n",
    "def plot_confusion_matrix(test_y, y_pred):\n",
    "    \"\"\"\n",
    "    Given test_y and y_predictions, plot confusion matrix.\n",
    "    \"\"\"\n",
    "    cm = confusion_matrix(test_y, y_pred)\n",
    "    fig, ax = plt.subplots()\n",
    "    ax.matshow(cm)\n",
    "    plt.title('Confusion Matrix')\n",
    "    plt.xlabel('Predicted')\n",
    "    plt.ylabel('True')\n",
    "\n",
    "    for (i, j), z in np.ndenumerate(cm):\n",
    "        ax.text(j, i, '{:d}'.format(z), ha='center', va='center')\n",
    "\n",
    "    plt.show()\n",
    "plot_confusion_matrix(test_y, prediction)"
   ]
  },
  {
   "cell_type": "code",
   "execution_count": 16,
   "metadata": {},
   "outputs": [
    {
     "data": {
      "image/png": "[encoded data removed]",
      "text/plain": [
       "<Figure size 432x288 with 1 Axes>"
      ]
     },
     "metadata": {
      "needs_background": "light"
     },
     "output_type": "display_data"
    }
   ],
   "source": [
    "import matplotlib.pyplot as plt\n",
    "plt.figure()\n",
    "plt.plot(history.history['loss'])\n",
    "plt.plot(history.history['val_loss'])\n",
    "plt.title('Model Loss')\n",
    "plt.ylabel('Loss')\n",
    "plt.xlabel('Epoch')\n",
    "plt.legend(['train','val'], loc = 'upper right')\n",
    "plt.show()"
   ]
  },
  {
   "cell_type": "code",
   "execution_count": 20,
   "metadata": {},
   "outputs": [
    {
     "data": {
      "image/png": "[encoded data removed]",
      "text/plain": [
       "<Figure size 432x288 with 1 Axes>"
      ]
     },
     "metadata": {
      "needs_background": "light"
     },
     "output_type": "display_data"
    }
   ],
   "source": [
    "import matplotlib.pyplot as plt\n",
    "plt.figure()\n",
    "plt.plot(history.history['accuracy'])\n",
    "plt.plot(history.history['val_accuracy'])\n",
    "plt.title('Model Accuracy')\n",
    "plt.ylabel('Accuracy')\n",
    "plt.xlabel('Epoch')\n",
    "plt.legend(['train','val'], loc = 'upper left')\n",
    "plt.show()"
   ]
  },
  {
   "cell_type": "code",
   "execution_count": 19,
   "metadata": {},
   "outputs": [
    {
     "name": "stdout",
     "output_type": "stream",
     "text": [
      "Model: \"sequential\"\n",
      "_________________________________________________________________\n",
      " Layer (type)                Output Shape              Param #   \n",
      "=================================================================\n",
      " conv1d (Conv1D)             (None, 134, 64)           256       \n",
      "                                                                 \n",
      " conv1d_1 (Conv1D)           (None, 132, 64)           12352     \n",
      "                                                                 \n",
      " dropout (Dropout)           (None, 132, 64)           0         \n",
      "                                                                 \n",
      " max_pooling1d (MaxPooling1D  (None, 66, 64)           0         \n",
      " )                                                               \n",
      "                                                                 \n",
      " lstm (LSTM)                 (None, 64)                33024     \n",
      "                                                                 \n",
      " dropout_1 (Dropout)         (None, 64)                0         \n",
      "                                                                 \n",
      " flatten (Flatten)           (None, 64)                0         \n",
      "                                                                 \n",
      " dense (Dense)               (None, 136)               8840      \n",
      "                                                                 \n",
      " dense_1 (Dense)             (None, 1)                 137       \n",
      "                                                                 \n",
      "=================================================================\n",
      "Total params: 54,609\n",
      "Trainable params: 54,609\n",
      "Non-trainable params: 0\n",
      "_________________________________________________________________\n"
     ]
    }
   ],
   "source": [
    "model.summary()"
   ]
  }
 ],
 "metadata": {
  "interpreter": {
   "hash": "81794d4967e6c3204c66dcd87b604927b115b27c00565d3d43f05ba2f3a2cb0d"
  },
  "kernelspec": {
   "display_name": "Python 3.9.4 64-bit",
   "language": "python",
   "name": "python3"
  },
  "language_info": {
   "codemirror_mode": {
    "name": "ipython",
    "version": 3
   },
   "file_extension": ".py",
   "mimetype": "text/x-python",
   "name": "python",
   "nbconvert_exporter": "python",
   "pygments_lexer": "ipython3",
   "version": "3.9.4"
  },
  "orig_nbformat": 4
 },
 "nbformat": 4,
 "nbformat_minor": 2
}
