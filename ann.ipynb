{
 "cells": [
  {
   "cell_type": "code",
   "execution_count": 1,
   "metadata": {},
   "outputs": [],
   "source": [
    "import numpy as np\n",
    "from sklearn.model_selection import train_test_split\n",
    "import pandas as pd\n",
    "import matplotlib.pyplot as plt\n",
    "from sklearn.metrics import accuracy_score, f1_score, recall_score, precision_score, confusion_matrix"
   ]
  },
  {
   "cell_type": "code",
   "execution_count": 2,
   "metadata": {},
   "outputs": [],
   "source": [
    "df = pd.read_csv(\"extracted_features.csv\")"
   ]
  },
  {
   "cell_type": "code",
   "execution_count": 3,
   "metadata": {},
   "outputs": [],
   "source": [
    "X = df.drop(columns=['pid', 'window10', 'timestamp', 'intoxicated', \"Unnamed: 0\", \"Unnamed: 0.1\", 'datetime'], axis=1)\n",
    "y = df[['intoxicated']]\n",
    "train_X, test_X, train_y, test_y = train_test_split(X, y, test_size=0.25, random_state=1)\n"
   ]
  },
  {
   "cell_type": "code",
   "execution_count": 4,
   "metadata": {},
   "outputs": [],
   "source": [
    "train_X = np.asarray(train_X).astype('float32')\n",
    "test_X = np.asarray(test_X).astype('float32')\n"
   ]
  },
  {
   "cell_type": "code",
   "execution_count": 5,
   "metadata": {},
   "outputs": [
    {
     "data": {
      "image/png": "[encoded data removed]",
      "text/plain": [
       "<Figure size 432x288 with 1 Axes>"
      ]
     },
     "metadata": {
      "needs_background": "light"
     },
     "output_type": "display_data"
    }
   ],
   "source": [
    "df[\"intoxicated\"].value_counts().plot(kind='bar')\n",
    "plt.show()"
   ]
  },
  {
   "cell_type": "code",
   "execution_count": 6,
   "metadata": {},
   "outputs": [
    {
     "data": {
      "text/plain": [
       "(54390, 136)"
      ]
     },
     "execution_count": 6,
     "metadata": {},
     "output_type": "execute_result"
    }
   ],
   "source": [
    "train_X.shape"
   ]
  },
  {
   "cell_type": "code",
   "execution_count": 7,
   "metadata": {},
   "outputs": [],
   "source": [
    "import tensorflow as tf\n",
    "from tensorflow import keras"
   ]
  },
  {
   "cell_type": "code",
   "execution_count": 8,
   "metadata": {},
   "outputs": [],
   "source": [
    "model = keras.Sequential([\n",
    "\tkeras.layers.Dense(136, activation = 'relu', name = 'l1'),\n",
    "\tkeras.layers.Dropout(0.5),\n",
    "\tkeras.layers.Dense(128, activation = 'relu', name = 'l2'),\n",
    "\tkeras.layers.Dense(64, activation = 'relu', name = 'l3'),\n",
    "\tkeras.layers.Dense(32, activation = 'relu', name = 'l31'),\n",
    "\tkeras.layers.Dense(16, activation = 'relu', name = 'l32'),\n",
    "\tkeras.layers.Dense(10, activation = 'relu', name = 'l4'),\n",
    "\tkeras.layers.Dense(1, activation = 'sigmoid', name = 'l5'),\n",
    "])\n",
    "\n",
    "model.compile(optimizer='adam', \n",
    "              loss='binary_crossentropy',\n",
    "              metrics=['accuracy'])\n"
   ]
  },
  {
   "cell_type": "code",
   "execution_count": 9,
   "metadata": {},
   "outputs": [
    {
     "name": "stdout",
     "output_type": "stream",
     "text": [
      "Epoch 1/10\n",
      "1360/1360 [==============================] - 5s 3ms/step - loss: 11068.0732 - accuracy: 0.7811 - val_loss: 0.3724 - val_accuracy: 0.8366\n",
      "Epoch 2/10\n",
      "1360/1360 [==============================] - 4s 3ms/step - loss: 1659.7347 - accuracy: 0.8273 - val_loss: 0.3302 - val_accuracy: 0.8304\n",
      "Epoch 3/10\n",
      "1360/1360 [==============================] - 4s 3ms/step - loss: 2.8774 - accuracy: 0.8380 - val_loss: 0.2903 - val_accuracy: 0.8781\n",
      "Epoch 4/10\n",
      "1360/1360 [==============================] - 5s 4ms/step - loss: 1.0765 - accuracy: 0.8572 - val_loss: 0.2738 - val_accuracy: 0.8782\n",
      "Epoch 5/10\n",
      "1360/1360 [==============================] - 5s 4ms/step - loss: 0.2925 - accuracy: 0.8618 - val_loss: 0.2689 - val_accuracy: 0.8756\n",
      "Epoch 6/10\n",
      "1360/1360 [==============================] - 5s 4ms/step - loss: 0.2844 - accuracy: 0.8648 - val_loss: 0.2624 - val_accuracy: 0.8757\n",
      "Epoch 7/10\n",
      "1360/1360 [==============================] - 5s 4ms/step - loss: 25.4150 - accuracy: 0.8690 - val_loss: 0.2620 - val_accuracy: 0.8758\n",
      "Epoch 8/10\n",
      "1360/1360 [==============================] - 4s 3ms/step - loss: 2.0705 - accuracy: 0.8623 - val_loss: 0.2561 - val_accuracy: 0.8790\n",
      "Epoch 9/10\n",
      "1360/1360 [==============================] - 5s 4ms/step - loss: 7.4969 - accuracy: 0.8666 - val_loss: 0.2617 - val_accuracy: 0.8767\n",
      "Epoch 10/10\n",
      "1360/1360 [==============================] - 5s 3ms/step - loss: 0.2706 - accuracy: 0.8681 - val_loss: 0.2516 - val_accuracy: 0.8772\n"
     ]
    }
   ],
   "source": [
    "history =model.fit(x = train_X, y = train_y, batch_size=None, epochs=10, validation_split=0.2 )"
   ]
  },
  {
   "cell_type": "code",
   "execution_count": 10,
   "metadata": {},
   "outputs": [],
   "source": [
    "prediction = model.predict(test_X).round()"
   ]
  },
  {
   "cell_type": "code",
   "execution_count": 11,
   "metadata": {},
   "outputs": [
    {
     "name": "stdout",
     "output_type": "stream",
     "text": [
      "0.8230341302059841 0.8701671170922729 0.8031103286384976 0.8439716312056738\n"
     ]
    }
   ],
   "source": [
    "f1 = f1_score(prediction, test_y)\n",
    "accuracy = accuracy_score(prediction, test_y)\n",
    "rec = recall_score(prediction, test_y)\n",
    "prec = precision_score(prediction, test_y)\n",
    "print(f1, accuracy, rec, prec)"
   ]
  },
  {
   "cell_type": "code",
   "execution_count": 12,
   "metadata": {},
   "outputs": [
    {
     "data": {
      "image/png": "[encoded data removed]",
      "text/plain": [
       "<Figure size 432x288 with 1 Axes>"
      ]
     },
     "metadata": {
      "needs_background": "light"
     },
     "output_type": "display_data"
    }
   ],
   "source": [
    "def plot_confusion_matrix(test_y, y_pred):\n",
    "    \"\"\"\n",
    "    Given test_y and y_predictions, plot confusion matrix.\n",
    "    \"\"\"\n",
    "    cm = confusion_matrix(test_y, y_pred)\n",
    "    fig, ax = plt.subplots()\n",
    "    ax.matshow(cm)\n",
    "    plt.title('Confusion Matrix')\n",
    "    plt.xlabel('Predicted')\n",
    "    plt.ylabel('True')\n",
    "\n",
    "    for (i, j), z in np.ndenumerate(cm):\n",
    "        ax.text(j, i, '{:d}'.format(z), ha='center', va='center')\n",
    "\n",
    "    plt.show()\n",
    "plot_confusion_matrix(test_y, prediction)"
   ]
  },
  {
   "cell_type": "code",
   "execution_count": 13,
   "metadata": {},
   "outputs": [
    {
     "name": "stdout",
     "output_type": "stream",
     "text": [
      "0.8230341302059841 0.8701671170922729 0.8031103286384976 0.8439716312056738\n"
     ]
    }
   ],
   "source": [
    "print(f1, accuracy, rec\t, prec)"
   ]
  },
  {
   "cell_type": "code",
   "execution_count": 14,
   "metadata": {},
   "outputs": [
    {
     "data": {
      "image/png": "[encoded data removed]",
      "text/plain": [
       "<Figure size 432x288 with 1 Axes>"
      ]
     },
     "metadata": {
      "needs_background": "light"
     },
     "output_type": "display_data"
    }
   ],
   "source": [
    "import matplotlib.pyplot as plt\n",
    "plt.figure()\n",
    "plt.plot(history.history['loss'])\n",
    "plt.plot(history.history['val_loss'])\n",
    "plt.title('model loss')\n",
    "plt.ylabel('loss')\n",
    "plt.xlabel('epoch')\n",
    "plt.legend(['train','val'], loc = 'upper left')\n",
    "plt.show()"
   ]
  },
  {
   "cell_type": "code",
   "execution_count": 15,
   "metadata": {},
   "outputs": [
    {
     "name": "stdout",
     "output_type": "stream",
     "text": [
      "567/567 [==============================] - 1s 2ms/step - loss: 0.2608 - accuracy: 0.8702\n"
     ]
    },
    {
     "data": {
      "text/plain": [
       "[0.2607855796813965, 0.8701671361923218]"
      ]
     },
     "execution_count": 15,
     "metadata": {},
     "output_type": "execute_result"
    }
   ],
   "source": [
    "model.evaluate(test_X, test_y)"
   ]
  }
 ],
 "metadata": {
  "interpreter": {
   "hash": "81794d4967e6c3204c66dcd87b604927b115b27c00565d3d43f05ba2f3a2cb0d"
  },
  "kernelspec": {
   "display_name": "Python 3.9.4 64-bit",
   "language": "python",
   "name": "python3"
  },
  "language_info": {
   "codemirror_mode": {
    "name": "ipython",
    "version": 3
   },
   "file_extension": ".py",
   "mimetype": "text/x-python",
   "name": "python",
   "nbconvert_exporter": "python",
   "pygments_lexer": "ipython3",
   "version": "3.9.4"
  },
  "orig_nbformat": 4
 },
 "nbformat": 4,
 "nbformat_minor": 2
}
